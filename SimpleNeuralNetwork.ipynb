{
  "cells": [
    {
      "cell_type": "code",
      "source": [
        "### 1 ###\n",
        "class Neuron:\n",
        "    def __init__(self):\n",
        "        self.w1 = 0.5\n",
        "        self.w2 = 0.1\n",
        "\n",
        "    def learn(self, o, s, c):\n",
        "        error = self.decide(o, s) - c\n",
        "        self.w1 -= 0.01 * error * o\n",
        "        self.w2 -= 0.01 * error * s\n",
        "\n",
        "    def decide(self, o, s):\n",
        "        c = 0\n",
        "        if (o*self.w1 + s*self.w2) > 1:\n",
        "            c = 1\n",
        "        return c\n",
        "\n",
        "if __name__ == \"__main__\":\n",
        "    neuron = Neuron()\n",
        "\n",
        "    # training\n",
        "    neuron.learn(1, 1, 1)\n",
        "    neuron.learn(1, 0, 0)\n",
        "    neuron.learn(0, 1, 0)\n",
        "    neuron.learn(0, 0, 0)\n",
        "\n",
        "    # testing\n",
        "    print(neuron.decide(1, 1))\n",
        "    print(neuron.decide(1, 0))\n",
        "    print(neuron.decide(0, 1))\n",
        "    print(neuron.decide(0, 0))\n"
      ],
      "metadata": {
        "colab": {
          "base_uri": "https://localhost:8080/"
        },
        "id": "ckdxsZd02LRt",
        "outputId": "39d63e51-50b5-4f65-a81a-f637425b9781"
      },
      "execution_count": null,
      "outputs": [
        {
          "output_type": "stream",
          "name": "stdout",
          "text": [
            "0\n",
            "0\n",
            "0\n",
            "0\n"
          ]
        }
      ]
    },
    {
      "cell_type": "code",
      "source": [
        "### 2 ###\n",
        "class Neuron:\n",
        "    def __init__(self):\n",
        "        self.w1 = 0.5\n",
        "        self.w2 = 0.1\n",
        "        self.t = 2.3\n",
        "\n",
        "    def learn(self, o, s, c):\n",
        "        error = self.decide(o, s) - c\n",
        "        self.w1 -= 0.01 * error * o\n",
        "        self.w2 -= 0.01 * error * s\n",
        "        self.t += 0.01 * error\n",
        "\n",
        "    def decide(self, o, s):\n",
        "        c = 0\n",
        "        if (o*self.w1 + s*self.w2) > self.t:\n",
        "            c = 1\n",
        "        return c\n",
        "\n",
        "if __name__ == \"__main__\":\n",
        "    neuron = Neuron()\n",
        "\n",
        "    # training\n",
        "    for i in range(300):\n",
        "        neuron.learn(1, 1, 1)\n",
        "        neuron.learn(1, 0, 1)\n",
        "        neuron.learn(0, 1, 1)\n",
        "        neuron.learn(0, 0, 1)\n",
        "\n",
        "    # testing\n",
        "    print(neuron.decide(1, 1))\n",
        "    print(neuron.decide(1, 0))\n",
        "    print(neuron.decide(0, 1))\n",
        "    print(neuron.decide(0, 0))\n"
      ],
      "metadata": {
        "colab": {
          "base_uri": "https://localhost:8080/"
        },
        "id": "JeCn5qHl2LBw",
        "outputId": "1bab9e13-91e3-4f69-9ec8-41a7fb1d8e4f"
      },
      "execution_count": null,
      "outputs": [
        {
          "output_type": "stream",
          "name": "stdout",
          "text": [
            "1\n",
            "1\n",
            "1\n",
            "1\n"
          ]
        }
      ]
    },
    {
      "cell_type": "code",
      "execution_count": null,
      "metadata": {
        "colab": {
          "base_uri": "https://localhost:8080/"
        },
        "id": "bfIIzAjLdsD2",
        "outputId": "1f6ed5d0-d05a-4012-f129-0adf3fa5f5b9"
      },
      "outputs": [
        {
          "output_type": "stream",
          "name": "stdout",
          "text": [
            "epoch 10 : 0\n",
            "epoch 20 : 0\n",
            "epoch 30 : 1\n",
            "epoch 40 : 2\n",
            "epoch 50 : 3\n",
            "epoch 60 : 3\n",
            "epoch 70 : 3\n",
            "epoch 80 : 3\n",
            "epoch 90 : 3\n",
            "epoch 100 : 3\n",
            "epoch 110 : 3\n",
            "epoch 120 : 3\n",
            "epoch 130 : 4\n",
            "epoch 140 : 4\n",
            "epoch 150 : 4\n",
            "epoch 160 : 4\n",
            "epoch 170 : 4\n",
            "epoch 180 : 4\n",
            "epoch 190 : 4\n",
            "epoch 200 : 4\n",
            "epoch 210 : 4\n",
            "epoch 220 : 4\n",
            "epoch 230 : 4\n",
            "epoch 240 : 4\n",
            "epoch 250 : 4\n",
            "epoch 260 : 4\n",
            "epoch 270 : 4\n",
            "epoch 280 : 4\n",
            "epoch 290 : 4\n",
            "epoch 300 : 4\n",
            "[1, 1, 1, 1]\n"
          ]
        }
      ],
      "source": [
        "### 3 ###\n",
        "class Neuron:\n",
        "    def __init__(self):\n",
        "        self.w1 = 0.5\n",
        "        self.w2 = 0.1\n",
        "        self.t = 2.3\n",
        "\n",
        "    def learn(self, o, s, c):\n",
        "        error = self.decide(o, s) - c\n",
        "        self.w1 -= 0.01 * error * o\n",
        "        self.w2 -= 0.01 * error * s\n",
        "        self.t += 0.01 * error\n",
        "\n",
        "    def decide(self, o, s):\n",
        "        c = 0\n",
        "        if (o*self.w1 + s*self.w2) > self.t:\n",
        "            c = 1\n",
        "        return c\n",
        "\n",
        "data = [[1, 1, 1],\n",
        "        [1, 0, 1],\n",
        "        [0, 1, 1],\n",
        "        [0, 0, 1]]\n",
        "\n",
        "def runTraining(neuron):\n",
        "    for row in data:\n",
        "        neuron.learn(row[0], row[1], row[2])\n",
        "\n",
        "def runTesting(neuron):\n",
        "    return [neuron.decide(row[0], row[1]) for row in data]\n",
        "\n",
        "def runEvaluation(neuron):\n",
        "    results = runTesting(neuron)\n",
        "    performance = 0\n",
        "    for row, result in zip(data, results):\n",
        "        if row[2] == result:\n",
        "          performance += 1\n",
        "    return performance\n",
        "\n",
        "if __name__ == \"__main__\":\n",
        "    neuron = Neuron()\n",
        "\n",
        "    for i in range(30):\n",
        "        for j in range(10):\n",
        "            runTraining(neuron)\n",
        "        print (f'epoch {(i+1)*10} : {runEvaluation(neuron)}')\n",
        "\n",
        "    print(runTesting(neuron))"
      ]
    },
    {
      "cell_type": "code",
      "source": [
        "### 4 ###\n",
        "class Neuron:\n",
        "    def __init__(self):\n",
        "        self.w1 = 0.5\n",
        "        self.w2 = 0.1\n",
        "        self.t = 2.3\n",
        "\n",
        "    def learn(self, o, s, c):\n",
        "        error = self.decide(o, s) - c\n",
        "        self.w1 -= 0.01 * error * o\n",
        "        self.w2 -= 0.01 * error * s\n",
        "        self.t += 0.01 * error\n",
        "\n",
        "    def decide(self, o, s):\n",
        "        c = 0\n",
        "        if (o*self.w1 + s*self.w2) > self.t:\n",
        "            c = 1\n",
        "        return c\n",
        "\n",
        "data = [[1, 1, 1],\n",
        "        [1, 0, 1],\n",
        "        [0, 1, 1],\n",
        "        [0, 0, 1]]\n",
        "\n",
        "def runTraining(neuron):\n",
        "    for row in data:\n",
        "        neuron.learn(row[0], row[1], row[2])\n",
        "\n",
        "def runTesting(neuron):\n",
        "    return [neuron.decide(row[0], row[1]) for row in data]\n",
        "\n",
        "def runEvaluation(neuron):\n",
        "    results = runTesting(neuron)\n",
        "    performance = 0\n",
        "    for row, result in zip(data, results):\n",
        "        if row[2] == result:\n",
        "          performance += 1\n",
        "    return performance\n",
        "\n",
        "import matplotlib.pyplot as plt\n",
        "\n",
        "if __name__ == \"__main__\":\n",
        "    neuron = Neuron()\n",
        "\n",
        "    performanceImprovement = []\n",
        "    for i in range(30):\n",
        "        for j in range(10):\n",
        "            runTraining(neuron)\n",
        "        performanceImprovement.append(runEvaluation(neuron))\n",
        "\n",
        "    plt.plot([i*10 for i in range(30)], performanceImprovement)\n",
        "    plt.show()"
      ],
      "metadata": {
        "colab": {
          "base_uri": "https://localhost:8080/",
          "height": 430
        },
        "id": "xpG6iRgZcrjc",
        "outputId": "03d898d9-94df-4849-d94f-3c924ceafc6e"
      },
      "execution_count": null,
      "outputs": [
        {
          "output_type": "display_data",
          "data": {
            "text/plain": [
              "<Figure size 640x480 with 1 Axes>"
            ],
            "image/png": "[encoded data removed]"
          },
          "metadata": {}
        }
      ]
    },
    {
      "cell_type": "code",
      "source": [
        "### 5 ###\n",
        "import random\n",
        "import matplotlib.pyplot as plt\n",
        "\n",
        "class Neuron:\n",
        "    def __init__(self, input_count):\n",
        "        self.weights = [random.random() for _ in range(input_count)]\n",
        "        self.threshold = random.random()\n",
        "\n",
        "    def decide(self, input_list):\n",
        "        sum = 0\n",
        "        for w, i in zip(self.weights, input_list):\n",
        "            sum += i*w\n",
        "\n",
        "        if sum > self.threshold:\n",
        "            return 1\n",
        "        return 0\n",
        "\n",
        "    def learn(self, input_list, output):\n",
        "        error = self.decide(input_list) - output\n",
        "        for i in range(len(self.weights)):\n",
        "            self.weights[i] -= 0.01 * error * input_list[i]\n",
        "        self.threshold += 0.01 * error\n",
        "\n",
        "def runTraining(neuron, input_lists, outputs):\n",
        "    for input_list, output in zip(input_lists, outputs):\n",
        "        neuron.learn(input_list, output)\n",
        "\n",
        "def runTesting(neuron, input_lists):\n",
        "    return [neuron.decide(input_list) for input_list in input_lists]\n",
        "\n",
        "def runEvaluation(neuron, input_lists, outputs):\n",
        "    predictions = runTesting(neuron, input_lists)\n",
        "    performance = 0\n",
        "    for ground_truth, prediction in zip(outputs, predictions):\n",
        "        if ground_truth == prediction:\n",
        "            performance += 1\n",
        "    return performance\n",
        "\n",
        "if __name__ == \"__main__\":\n",
        "    data = [[1, 1, 1, 1],\n",
        "            [1, 0, 1, 0],\n",
        "            [0, 1, 1, 0],\n",
        "            [0, 0, 1, 0],\n",
        "            [1, 1, 0, 1],\n",
        "            [1, 0, 0, 1],\n",
        "            [0, 1, 0, 1],\n",
        "            [0, 0, 0, 1]]\n",
        "\n",
        "    input_lists = [row[:-1] for row in data]\n",
        "    outputs = [row[-1] for row in data]\n",
        "\n",
        "    neuron = Neuron(len(input_lists[0]))\n",
        "\n",
        "    epoch = 90\n",
        "    performanceImprovement = []\n",
        "    for i in range(epoch):\n",
        "        runTraining(neuron, input_lists, outputs)\n",
        "        performanceImprovement.append(runEvaluation(neuron, input_lists, outputs))\n",
        "\n",
        "    plt.plot([i for i in range(epoch)], performanceImprovement)\n",
        "    plt.show()"
      ],
      "metadata": {
        "colab": {
          "base_uri": "https://localhost:8080/",
          "height": 430
        },
        "id": "nBD-HCATXD_J",
        "outputId": "d008c833-0c9b-49a8-fa65-5829a8e7e236"
      },
      "execution_count": null,
      "outputs": [
        {
          "output_type": "display_data",
          "data": {
            "text/plain": [
              "<Figure size 640x480 with 1 Axes>"
            ],
            "image/png": "[encoded data removed]"
          },
          "metadata": {}
        }
      ]
    },
    {
      "cell_type": "code",
      "source": [
        "### 6 ###\n",
        "import random\n",
        "import matplotlib.pyplot as plt\n",
        "\n",
        "class Neuron:\n",
        "    def __init__(self, input_count):\n",
        "        self.weights = [random.random() for _ in range(input_count)]\n",
        "        self.bias = random.random()\n",
        "        self.learning_rate = 0.01\n",
        "\n",
        "    def _calculate_output(self, input_list):\n",
        "        sum = 0\n",
        "        for w, i in zip(self.weights, input_list):\n",
        "            sum += i*w\n",
        "        return sum + self.bias\n",
        "\n",
        "    def _activation(self, output):\n",
        "        return 1 if output > 0 else 0\n",
        "\n",
        "    def decide(self, input_list):\n",
        "        output = self._calculate_output(input_list)\n",
        "        return self._activation(output)\n",
        "\n",
        "    def learn(self, input_list, error):\n",
        "        for i in range(len(self.weights)):\n",
        "            self.weights[i] -= self.learning_rate * error * input_list[i]\n",
        "        self.bias -= self.learning_rate * error\n",
        "\n",
        "\n",
        "input_lists = [[1, 1, 1],\n",
        "               [1, 0, 1],\n",
        "               [0, 1, 1],\n",
        "               [0, 0, 1],\n",
        "               [1, 1, 0],\n",
        "               [1, 0, 0],\n",
        "               [0, 1, 0],\n",
        "               [0, 0, 0]]\n",
        "outputs = [1,\n",
        "           0,\n",
        "           0,\n",
        "           0,\n",
        "           1,\n",
        "           1,\n",
        "           1,\n",
        "           1]\n",
        "\n",
        "def runTraining(neuron):\n",
        "    for input_list, output in zip(input_lists, outputs):\n",
        "        error = neuron.decide(input_list) - output\n",
        "        neuron.learn(input_list, error)\n",
        "\n",
        "def runTesting(neuron):\n",
        "    return [neuron.decide(input_list) for input_list in input_lists]\n",
        "\n",
        "def runEvaluation(neuron):\n",
        "    predictions = runTesting(neuron)\n",
        "    performance = 0\n",
        "    for ground_truth, prediction in zip(outputs, predictions):\n",
        "        if ground_truth == prediction:\n",
        "            performance += 1\n",
        "    return performance\n",
        "\n",
        "if __name__ == \"__main__\":\n",
        "    neuron = Neuron(len(input_lists[0]))\n",
        "\n",
        "    epoch = 90\n",
        "    performanceImprovement = []\n",
        "    for i in range(epoch):\n",
        "        runTraining(neuron)\n",
        "        performanceImprovement.append(runEvaluation(neuron))\n",
        "\n",
        "    plt.plot([i for i in range(epoch)], performanceImprovement)\n",
        "    plt.show()"
      ],
      "metadata": {
        "colab": {
          "base_uri": "https://localhost:8080/",
          "height": 430
        },
        "id": "jqtdQ8edueV8",
        "outputId": "a6d66007-219a-4d77-ae53-476f1ecaeff9"
      },
      "execution_count": null,
      "outputs": [
        {
          "output_type": "display_data",
          "data": {
            "text/plain": [
              "<Figure size 640x480 with 1 Axes>"
            ],
            "image/png": "[encoded data removed]"
          },
          "metadata": {}
        }
      ]
    }
  ],
  "metadata": {
    "colab": {
      "provenance": []
    },
    "kernelspec": {
      "display_name": "Python 3",
      "name": "python3"
    },
    "language_info": {
      "name": "python"
    }
  },
  "nbformat": 4,
  "nbformat_minor": 0
}
