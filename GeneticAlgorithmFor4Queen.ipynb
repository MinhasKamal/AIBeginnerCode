{
  "nbformat": 4,
  "nbformat_minor": 0,
  "metadata": {
    "colab": {
      "provenance": []
    },
    "kernelspec": {
      "name": "python3",
      "display_name": "Python 3"
    },
    "language_info": {
      "name": "python"
    }
  },
  "cells": [
    {
      "cell_type": "code",
      "source": [
        "boards = [\n",
        "         [[1, 0, 0, 0],\n",
        "          [1, 0, 0, 0],\n",
        "          [0, 1, 0, 0],\n",
        "          [0, 0, 1, 0]],\n",
        "\n",
        "         [[0, 1, 0, 0],\n",
        "          [0, 0, 1, 0],\n",
        "          [0, 1, 0, 0],\n",
        "          [0, 1, 0, 0]],\n",
        "\n",
        "         [[0, 0, 0, 1],\n",
        "          [0, 0, 1, 0],\n",
        "          [0, 1, 0, 0],\n",
        "          [0, 0, 0, 1]],\n",
        "\n",
        "         [[0, 0, 0, 1],\n",
        "          [0, 1, 0, 0],\n",
        "          [0, 0, 0, 1],\n",
        "          [0, 0, 1, 0]]\n",
        "         ]\n",
        "\n",
        "max_fitness = len(boards[0][0]) * (len(boards[0]) - 1)\n",
        "\n",
        "def calculate_attack(board):\n",
        "  attack = 0\n",
        "  for r in range(len(board)):\n",
        "    for c in range(len(board[r])):\n",
        "      if board[r][c] == 1:\n",
        "        attack += calculate_attack_for_cell(board, r, c)\n",
        "  return attack\n",
        "\n",
        "def calculate_attack_for_cell(board, r, c):\n",
        "  attack = 0\n",
        "  for r2 in range(len(board)):\n",
        "    for c2 in range(len(board[r2])):\n",
        "      if board[r2][c2] == 1:\n",
        "        if r == r2 and c == c2:\n",
        "          continue\n",
        "        if r == r2 or c == c2 or r-c == r2-c2 or r+c == r2+c2:\n",
        "          attack += 1\n",
        "  return attack\n",
        "\n",
        "print(calculate_attack(boards[0]))\n",
        "print(calculate_attack(boards[1]))\n",
        "print(calculate_attack(boards[2]))\n",
        "print(calculate_attack(boards[3]))"
      ],
      "metadata": {
        "colab": {
          "base_uri": "https://localhost:8080/"
        },
        "id": "NLaLpqJiVwsE",
        "outputId": "9492cb7a-2664-4e46-cbce-48456ebc0fef"
      },
      "execution_count": null,
      "outputs": [
        {
          "output_type": "stream",
          "name": "stdout",
          "text": [
            "8\n",
            "10\n",
            "8\n",
            "4\n"
          ]
        }
      ]
    },
    {
      "cell_type": "code",
      "source": [
        "import random\n",
        "\n",
        "def calculate_fitness(boards, max_fitness):\n",
        "  fitness = []\n",
        "  for board in boards:\n",
        "    fitness.append(max_fitness - calculate_attack(board) + 1)\n",
        "  return fitness\n",
        "\n",
        "def select_parents(boards, fitness):\n",
        "  while True:\n",
        "    choices = random.choices(population=range(len(boards)), weights=fitness, k=2)\n",
        "    if choices[0] != choices[1]:\n",
        "      break\n",
        "  return choices\n",
        "\n",
        "select_parents(boards, calculate_fitness(boards, max_fitness))"
      ],
      "metadata": {
        "colab": {
          "base_uri": "https://localhost:8080/"
        },
        "id": "KeiyDIFQj8iz",
        "outputId": "2bc763d7-3474-4c34-b3d8-78bb6ef6c6ef"
      },
      "execution_count": null,
      "outputs": [
        {
          "output_type": "execute_result",
          "data": {
            "text/plain": [
              "[1, 3]"
            ]
          },
          "metadata": {},
          "execution_count": 291
        }
      ]
    },
    {
      "cell_type": "code",
      "source": [
        "import copy\n",
        "\n",
        "def cross_over_parents(boards, parents):\n",
        "  split_location = random.choice(range(len(boards[0])-1)) + 1\n",
        "  nextgen_boards = copy.deepcopy([boards[parents[0]], boards[parents[1]]])\n",
        "\n",
        "  temp = nextgen_boards[0][split_location:].copy()\n",
        "  nextgen_boards[0][split_location:] = nextgen_boards[1][split_location:]\n",
        "  nextgen_boards[1][split_location:] = temp\n",
        "\n",
        "  return nextgen_boards\n",
        "\n",
        "cross_over_parents(boards, [0, 1])"
      ],
      "metadata": {
        "colab": {
          "base_uri": "https://localhost:8080/"
        },
        "id": "PJhImTyY0X3n",
        "outputId": "65fe9aa2-ca40-44ec-eef6-d44867169de4"
      },
      "execution_count": null,
      "outputs": [
        {
          "output_type": "execute_result",
          "data": {
            "text/plain": [
              "[[[1, 0, 0, 0], [0, 0, 1, 0], [0, 1, 0, 0], [0, 1, 0, 0]],\n",
              " [[0, 1, 0, 0], [1, 0, 0, 0], [0, 1, 0, 0], [0, 0, 1, 0]]]"
            ]
          },
          "metadata": {},
          "execution_count": 292
        }
      ]
    },
    {
      "cell_type": "code",
      "source": [
        "def apply_mutation(boards, probability):\n",
        "  mutated_boards = copy.deepcopy(boards)\n",
        "  for board in mutated_boards:\n",
        "    if random.random() < probability:\n",
        "      row = random.choice(range(len(board)))\n",
        "      for i in range(len(board[0])):\n",
        "        board[row][i] = 0\n",
        "\n",
        "      col = random.choice(range(len(board[0])))\n",
        "      board[row][col] = 1\n",
        "\n",
        "  return mutated_boards\n",
        "\n",
        "print(apply_mutation(boards, 1))"
      ],
      "metadata": {
        "colab": {
          "base_uri": "https://localhost:8080/"
        },
        "id": "erHawuhYEG78",
        "outputId": "c9723abe-85e1-471d-dc51-684f7b25beea"
      },
      "execution_count": null,
      "outputs": [
        {
          "output_type": "stream",
          "name": "stdout",
          "text": [
            "[[[0, 0, 0, 1], [1, 0, 0, 0], [0, 1, 0, 0], [0, 0, 1, 0]], [[0, 1, 0, 0], [0, 0, 1, 0], [0, 1, 0, 0], [0, 1, 0, 0]], [[0, 0, 0, 1], [0, 0, 1, 0], [0, 1, 0, 0], [0, 1, 0, 0]], [[0, 0, 0, 1], [0, 1, 0, 0], [0, 0, 0, 1], [0, 0, 1, 0]]]\n"
          ]
        }
      ]
    },
    {
      "cell_type": "code",
      "source": [
        "def run_evolution(boards, fitness):\n",
        "  next_generation = []\n",
        "  while len(next_generation) < len(boards):\n",
        "    parents = select_parents(boards, fitness)\n",
        "    children = cross_over_parents(boards, parents)\n",
        "    next_generation.append(children[0])\n",
        "    next_generation.append(children[1])\n",
        "\n",
        "  next_generation = apply_mutation(next_generation, 0.1)\n",
        "  return next_generation\n",
        "\n",
        "# import matplotlib.pyplot as plt\n",
        "\n",
        "def main(boards):\n",
        "  # performanceImprovement = []\n",
        "  # epochs = 0\n",
        "\n",
        "  for i in range(500):\n",
        "    fitness = calculate_fitness(boards, max_fitness)\n",
        "    # performanceImprovement.append(max(fitness))\n",
        "    # epochs += 1\n",
        "\n",
        "    if(max(fitness) > max_fitness):\n",
        "      print(\"epoch\", i)\n",
        "      break\n",
        "    boards = run_evolution(boards, fitness)\n",
        "\n",
        "  print(fitness)\n",
        "  print(boards)\n",
        "\n",
        "  # plt.plot([i for i in range(epochs)], performanceImprovement)\n",
        "  # plt.show()\n",
        "\n",
        "\n",
        "main(boards)"
      ],
      "metadata": {
        "colab": {
          "base_uri": "https://localhost:8080/"
        },
        "id": "cFiUhDoJIqKw",
        "outputId": "de8fc82c-bbc3-41aa-c018-634b434357ca"
      },
      "execution_count": null,
      "outputs": [
        {
          "output_type": "stream",
          "name": "stdout",
          "text": [
            "epoch 181\n",
            "[11, 11, 11, 13]\n",
            "[[[0, 0, 1, 0], [1, 0, 0, 0], [0, 0, 0, 1], [0, 0, 0, 1]], [[0, 0, 1, 0], [1, 0, 0, 0], [0, 0, 0, 1], [0, 0, 0, 1]], [[0, 0, 1, 0], [1, 0, 0, 0], [0, 0, 0, 1], [0, 0, 0, 1]], [[0, 0, 1, 0], [1, 0, 0, 0], [0, 0, 0, 1], [0, 1, 0, 0]]]\n"
          ]
        }
      ]
    },
    {
      "cell_type": "code",
      "source": [],
      "metadata": {
        "id": "GniAeJQ6NzsS"
      },
      "execution_count": null,
      "outputs": []
    },
    {
      "cell_type": "code",
      "source": [
        "boards2 = [\n",
        "         [[1, 0, 0, 0, 0, 0, 0, 0],\n",
        "          [1, 0, 0, 0, 0, 0, 0, 0],\n",
        "          [0, 1, 0, 0, 0, 0, 0, 0],\n",
        "          [0, 0, 1, 0, 0, 0, 0, 0],\n",
        "          [1, 0, 0, 0, 0, 0, 0, 0],\n",
        "          [0, 0, 0, 0, 0, 0, 1, 0],\n",
        "          [0, 1, 0, 0, 0, 0, 0, 0],\n",
        "          [0, 0, 1, 0, 0, 0, 0, 0]],\n",
        "\n",
        "         [[0, 1, 0, 0, 0, 0, 0, 0],\n",
        "          [0, 0, 1, 0, 0, 0, 0, 0],\n",
        "          [0, 1, 0, 0, 0, 0, 0, 0],\n",
        "          [0, 1, 0, 0, 0, 0, 0, 0],\n",
        "          [0, 1, 0, 0, 0, 0, 0, 0],\n",
        "          [0, 0, 0, 0, 0, 0, 0, 1],\n",
        "          [0, 1, 0, 0, 0, 0, 0, 0],\n",
        "          [0, 1, 0, 0, 0, 0, 0, 0]],\n",
        "\n",
        "         [[0, 0, 0, 1, 0, 0, 0, 0],\n",
        "          [0, 0, 1, 0, 0, 0, 0, 0],\n",
        "          [0, 1, 0, 0, 0, 0, 0, 0],\n",
        "          [0, 0, 0, 1, 0, 0, 0, 0],\n",
        "          [0, 0, 0, 1, 0, 0, 0, 0],\n",
        "          [0, 0, 1, 0, 0, 0, 0, 0],\n",
        "          [0, 1, 0, 0, 0, 0, 0, 0],\n",
        "          [0, 0, 0, 0, 0, 0, 1, 0]],\n",
        "\n",
        "         [[0, 0, 0, 0, 0, 1, 0, 0],\n",
        "          [0, 1, 0, 0, 0, 0, 0, 0],\n",
        "          [0, 0, 0, 1, 0, 0, 0, 0],\n",
        "          [0, 0, 1, 0, 0, 0, 0, 0],\n",
        "          [0, 0, 0, 1, 0, 0, 0, 0],\n",
        "          [0, 1, 0, 0, 0, 0, 0, 0],\n",
        "          [0, 0, 0, 1, 0, 0, 0, 0],\n",
        "          [0, 0, 1, 0, 0, 0, 0, 0]],\n",
        "\n",
        "         [[1, 0, 0, 0, 0, 0, 0, 0],\n",
        "          [1, 0, 0, 0, 0, 0, 0, 0],\n",
        "          [0, 1, 0, 0, 0, 0, 0, 0],\n",
        "          [0, 0, 1, 0, 0, 0, 0, 0],\n",
        "          [1, 0, 0, 0, 0, 0, 0, 0],\n",
        "          [0, 0, 0, 0, 0, 0, 1, 0],\n",
        "          [0, 1, 0, 0, 0, 0, 0, 0],\n",
        "          [0, 0, 1, 0, 0, 0, 0, 0]],\n",
        "\n",
        "         [[0, 1, 0, 0, 0, 0, 0, 0],\n",
        "          [0, 0, 1, 0, 0, 0, 0, 0],\n",
        "          [0, 1, 0, 0, 0, 0, 0, 0],\n",
        "          [0, 1, 0, 0, 0, 0, 0, 0],\n",
        "          [0, 1, 0, 0, 0, 0, 0, 0],\n",
        "          [0, 0, 0, 0, 0, 0, 0, 1],\n",
        "          [0, 1, 0, 0, 0, 0, 0, 0],\n",
        "          [0, 1, 0, 0, 0, 0, 0, 0]],\n",
        "\n",
        "         [[0, 0, 0, 1, 0, 0, 0, 0],\n",
        "          [0, 0, 1, 0, 0, 0, 0, 0],\n",
        "          [0, 1, 0, 0, 0, 0, 0, 0],\n",
        "          [0, 0, 0, 1, 0, 0, 0, 0],\n",
        "          [0, 0, 0, 1, 0, 0, 0, 0],\n",
        "          [0, 0, 1, 0, 0, 0, 0, 0],\n",
        "          [0, 1, 0, 0, 0, 0, 0, 0],\n",
        "          [0, 0, 0, 0, 0, 0, 1, 0]],\n",
        "\n",
        "         [[0, 0, 0, 0, 0, 1, 0, 0],\n",
        "          [0, 1, 0, 0, 0, 0, 0, 0],\n",
        "          [0, 0, 0, 1, 0, 0, 0, 0],\n",
        "          [0, 0, 1, 0, 0, 0, 0, 0],\n",
        "          [0, 0, 0, 1, 0, 0, 0, 0],\n",
        "          [0, 1, 0, 0, 0, 0, 0, 0],\n",
        "          [0, 0, 0, 1, 0, 0, 0, 0],\n",
        "          [0, 0, 1, 0, 0, 0, 0, 0]]\n",
        "         ]\n",
        "\n",
        "max_fitness2 = len(boards2[0][0]) * (len(boards2[0]) - 1)\n",
        "\n",
        "import matplotlib.pyplot as plt\n",
        "\n",
        "def main2(boards):\n",
        "  performanceImprovement = []\n",
        "  epochs = 0\n",
        "\n",
        "  for i in range(5000):\n",
        "    fitness = calculate_fitness(boards, max_fitness2)\n",
        "    performanceImprovement.append(max(fitness))\n",
        "    epochs += 1\n",
        "\n",
        "    if(max(fitness) > max_fitness2):\n",
        "      print(\"epoch\", i)\n",
        "      break\n",
        "    boards = run_evolution(boards, fitness)\n",
        "\n",
        "  print(fitness)\n",
        "  print(boards)\n",
        "\n",
        "  plt.plot([i for i in range(epochs)], performanceImprovement)\n",
        "  plt.show()\n",
        "\n",
        "main2(boards2)\n"
      ],
      "metadata": {
        "id": "UGHLVEXRWeP2",
        "colab": {
          "base_uri": "https://localhost:8080/",
          "height": 503
        },
        "outputId": "ce6f97b2-f63f-4694-b1e1-ba47d7557e51"
      },
      "execution_count": null,
      "outputs": [
        {
          "output_type": "stream",
          "name": "stdout",
          "text": [
            "epoch 110\n",
            "[47, 53, 51, 53, 49, 57, 53, 53]\n",
            "[[[0, 1, 0, 0, 0, 0, 0, 0], [1, 0, 0, 0, 0, 0, 0, 0], [1, 0, 0, 0, 0, 0, 0, 0], [0, 0, 0, 0, 0, 0, 1, 0], [0, 0, 0, 1, 0, 0, 0, 0], [0, 0, 0, 0, 0, 0, 0, 1], [0, 0, 0, 0, 0, 0, 1, 0], [0, 0, 0, 0, 1, 0, 0, 0]], [[0, 1, 0, 0, 0, 0, 0, 0], [0, 0, 0, 0, 0, 1, 0, 0], [1, 0, 0, 0, 0, 0, 0, 0], [0, 0, 0, 0, 0, 0, 1, 0], [0, 0, 0, 1, 0, 0, 0, 0], [0, 0, 0, 0, 0, 0, 0, 1], [0, 0, 1, 0, 0, 0, 0, 0], [0, 1, 0, 0, 0, 0, 0, 0]], [[0, 1, 0, 0, 0, 0, 0, 0], [0, 0, 0, 0, 0, 1, 0, 0], [1, 0, 0, 0, 0, 0, 0, 0], [0, 0, 0, 0, 0, 0, 1, 0], [0, 0, 0, 1, 0, 0, 0, 0], [0, 0, 0, 0, 0, 0, 0, 1], [0, 0, 0, 0, 0, 0, 1, 0], [0, 1, 0, 0, 0, 0, 0, 0]], [[0, 1, 0, 0, 0, 0, 0, 0], [0, 0, 0, 0, 0, 1, 0, 0], [1, 0, 0, 0, 0, 0, 0, 0], [0, 0, 0, 0, 0, 0, 1, 0], [0, 0, 0, 1, 0, 0, 0, 0], [0, 0, 0, 0, 0, 0, 0, 1], [0, 0, 0, 0, 0, 0, 1, 0], [0, 0, 0, 0, 1, 0, 0, 0]], [[0, 1, 0, 0, 0, 0, 0, 0], [0, 0, 0, 0, 0, 1, 0, 0], [1, 0, 0, 0, 0, 0, 0, 0], [0, 0, 0, 0, 0, 0, 1, 0], [0, 0, 1, 0, 0, 0, 0, 0], [0, 0, 0, 0, 0, 0, 0, 1], [0, 0, 0, 0, 0, 0, 1, 0], [0, 0, 0, 0, 1, 0, 0, 0]], [[0, 1, 0, 0, 0, 0, 0, 0], [0, 0, 0, 0, 0, 1, 0, 0], [1, 0, 0, 0, 0, 0, 0, 0], [0, 0, 0, 0, 0, 0, 1, 0], [0, 0, 0, 1, 0, 0, 0, 0], [0, 0, 0, 0, 0, 0, 0, 1], [0, 0, 1, 0, 0, 0, 0, 0], [0, 0, 0, 0, 1, 0, 0, 0]], [[0, 1, 0, 0, 0, 0, 0, 0], [0, 0, 0, 0, 0, 1, 0, 0], [1, 0, 0, 0, 0, 0, 0, 0], [0, 0, 0, 0, 0, 0, 1, 0], [0, 0, 0, 1, 0, 0, 0, 0], [0, 0, 0, 0, 0, 0, 0, 1], [0, 0, 0, 0, 1, 0, 0, 0], [0, 1, 0, 0, 0, 0, 0, 0]], [[0, 1, 0, 0, 0, 0, 0, 0], [0, 0, 0, 0, 0, 1, 0, 0], [1, 0, 0, 0, 0, 0, 0, 0], [0, 0, 0, 0, 0, 0, 1, 0], [0, 0, 0, 1, 0, 0, 0, 0], [0, 0, 0, 0, 0, 0, 0, 1], [0, 0, 0, 0, 0, 0, 1, 0], [0, 0, 0, 0, 1, 0, 0, 0]]]\n"
          ]
        },
        {
          "output_type": "display_data",
          "data": {
            "text/plain": [
              "<Figure size 640x480 with 1 Axes>"
            ],
            "image/png": "[encoded data removed]"
          },
          "metadata": {}
        }
      ]
    }
  ]
}