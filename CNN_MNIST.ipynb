{
  "nbformat": 4,
  "nbformat_minor": 0,
  "metadata": {
    "colab": {
      "provenance": [],
      "gpuType": "T4"
    },
    "kernelspec": {
      "name": "python3",
      "display_name": "Python 3"
    },
    "language_info": {
      "name": "python"
    },
    "accelerator": "GPU"
  },
  "cells": [
    {
      "cell_type": "code",
      "execution_count": null,
      "metadata": {
        "id": "0_7hakwRALMP",
        "colab": {
          "base_uri": "https://localhost:8080/"
        },
        "outputId": "37ae7ad8-f350-4ec1-a785-df78ec133bba"
      },
      "outputs": [
        {
          "output_type": "stream",
          "name": "stdout",
          "text": [
            "CPU\n"
          ]
        }
      ],
      "source": [
        "import torch\n",
        "import torch.nn as nn\n",
        "import torch.nn.functional as F\n",
        "from torch.utils.data import DataLoader\n",
        "from torchvision import datasets, transforms\n",
        "from torchvision.utils import make_grid\n",
        "\n",
        "import numpy as np\n",
        "import pandas as pd\n",
        "from sklearn.metrics import confusion_matrix\n",
        "\n",
        "import matplotlib.pyplot as plt\n",
        "from tqdm import tqdm\n",
        "\n",
        "if torch.cuda.is_available():\n",
        "  device  = torch.device('cuda:0')\n",
        "  print('GPU')\n",
        "else:\n",
        "  device  = torch.device('cpu')\n",
        "  print('CPU')\n",
        "\n",
        "SEED = 42"
      ]
    },
    {
      "cell_type": "code",
      "source": [
        "# converts MNIST images to a 4D tensor[image_index, row, column, color]\n",
        "transform = transforms.ToTensor()\n",
        "\n",
        "# download MNIST data and convert to tensor\n",
        "train_data = datasets.MNIST(root='/mnist', train=True, download=True, transform=transform)\n",
        "test_data = datasets.MNIST(root='/mnist', train=False, download=True, transform=transform)\n",
        "\n",
        "train_data, test_data\n"
      ],
      "metadata": {
        "colab": {
          "base_uri": "https://localhost:8080/"
        },
        "id": "HirFQ3N5OPOE",
        "outputId": "b2903d0a-29df-49de-bdca-2a1d1d9f4911"
      },
      "execution_count": null,
      "outputs": [
        {
          "output_type": "execute_result",
          "data": {
            "text/plain": [
              "(Dataset MNIST\n",
              "     Number of datapoints: 60000\n",
              "     Root location: /mnist\n",
              "     Split: Train\n",
              "     StandardTransform\n",
              " Transform: ToTensor(),\n",
              " Dataset MNIST\n",
              "     Number of datapoints: 10000\n",
              "     Root location: /mnist\n",
              "     Split: Test\n",
              "     StandardTransform\n",
              " Transform: ToTensor())"
            ]
          },
          "metadata": {},
          "execution_count": 67
        }
      ]
    },
    {
      "cell_type": "code",
      "source": [
        "# np.random.seed(SEED)\n",
        "# create batch of images\n",
        "train_loader = DataLoader(dataset=train_data, batch_size=64, shuffle=False)#, worker_init_fn=lambda id: np.random.seed(SEED))#, drop_last=True)\n",
        "test_loader = DataLoader(dataset=test_data, batch_size=64, shuffle=False) # no need to shuffle test data\n"
      ],
      "metadata": {
        "id": "MGFX4Zo7PAcW"
      },
      "execution_count": null,
      "outputs": []
    },
    {
      "cell_type": "code",
      "source": [
        "class Model(nn.Module):\n",
        "  def __init__(self, img_channel=1, img_height=28, img_width=28, layer1_kernels=8,\n",
        "               layer2_kernels=16, hidden1=120, hidden2=84, output=10):\n",
        "    super().__init__()\n",
        "    self.conv = nn.Sequential(\n",
        "        nn.Conv2d(in_channels=img_channel, out_channels=layer1_kernels, kernel_size=3, stride=1),\n",
        "        nn.ReLU(),\n",
        "        nn.MaxPool2d(kernel_size=2, stride=2),\n",
        "\n",
        "        nn.Conv2d(in_channels=layer1_kernels, out_channels=layer2_kernels, kernel_size=3, stride=1),\n",
        "        nn.ReLU(),\n",
        "        nn.MaxPool2d(kernel_size=2, stride=2),\n",
        "\n",
        "        nn.Flatten()\n",
        "    )\n",
        "\n",
        "    in_features = self.calc_flattened_input_dim(img_channel, img_height, img_width)\n",
        "\n",
        "    self.fc = nn.Sequential(\n",
        "        nn.Linear(in_features = in_features, out_features = hidden1, bias = True),\n",
        "        nn.ReLU(),\n",
        "\n",
        "        nn.Linear(in_features = hidden1, out_features = hidden2, bias = True),\n",
        "        nn.ReLU(),\n",
        "\n",
        "        nn.Linear(in_features = hidden2, out_features = output, bias = True)\n",
        "        # we dont need a softmax layer as we are using cross entropy which\n",
        "        # does softmax internally.\n",
        "        # nn.Softmax()\n",
        "    )\n",
        "\n",
        "  def calc_flattened_input_dim(self, img_channel, img_height, img_width):\n",
        "    x = torch.rand(1, img_channel, img_height, img_width)\n",
        "    x = self.conv(x)\n",
        "    return x.size(1)\n",
        "\n",
        "  def forward(self, x):\n",
        "    x = self.conv(x)\n",
        "    return self.fc(x)\n",
        "\n",
        "# class Model(nn.Module):\n",
        "#   def __init__(self):\n",
        "#     super().__init__()\n",
        "#     self.conv1 = nn.Conv2d(in_channels=1, out_channels=6, kernel_size=3, stride=1)\n",
        "#     self.conv2 = nn.Conv2d(in_channels=6, out_channels=16, kernel_size=3, stride=1)\n",
        "#     self.fc1 = nn.Linear(in_features = 5*5*16, out_features = 120, bias = True)\n",
        "#     self.fc2 = nn.Linear(in_features = 120, out_features = 84, bias = True)\n",
        "#     self.fc3 = nn.Linear(in_features = 84, out_features = 10, bias = True)\n",
        "\n",
        "\n",
        "#   def forward(self, x):\n",
        "#     x = F.relu(self.conv1(x))\n",
        "#     x = F.max_pool2d(x, 2, 2)\n",
        "#     x = F.relu(self.conv2(x))\n",
        "#     x = F.max_pool2d(x, 2, 2)\n",
        "\n",
        "#     #flatten\n",
        "#     x = x.view(-1, 16*5*5)\n",
        "\n",
        "#     x = F.relu(self.fc1(x))\n",
        "#     x = F.relu(self.fc2(x))\n",
        "#     x = self.fc3(x)\n",
        "\n",
        "#     return F.log_softmax(x, dim=1)"
      ],
      "metadata": {
        "id": "PECUDrmY_f5B"
      },
      "execution_count": null,
      "outputs": []
    },
    {
      "cell_type": "code",
      "source": [
        "torch.manual_seed(SEED)\n",
        "\n",
        "model = Model().to(device)\n",
        "\n",
        "criterion = nn.CrossEntropyLoss()\n",
        "optimizer = torch.optim.Adam(model.parameters(), lr = 0.01)"
      ],
      "metadata": {
        "id": "-x8s64P9v2-x"
      },
      "execution_count": null,
      "outputs": []
    },
    {
      "cell_type": "code",
      "source": [
        "import time\n",
        "start_time = time.time()\n",
        "\n",
        "training_loss_list = []\n",
        "testing_loss_list = []\n",
        "\n",
        "epochs = 7\n",
        "for i in tqdm(range(epochs)):\n",
        "  # set model to training mode. this is ensures that batch-norm and\n",
        "  # drop-out behave accordingly during training\n",
        "  model.train()\n",
        "  # batch training\n",
        "  for j, (X_train, y_train) in enumerate(train_loader):\n",
        "    y_pred = model(X_train.to(device))\n",
        "    batch_training_loss = criterion(y_pred, y_train.to(device))\n",
        "\n",
        "    optimizer.zero_grad()\n",
        "    batch_training_loss.backward()\n",
        "    optimizer.step()\n",
        "\n",
        "  # append loss from the last train batch for showing in plot\n",
        "  training_loss_list.append(batch_training_loss.item())\n",
        "\n",
        "  # swith to evaluation mode\n",
        "  model.eval()\n",
        "  number_of_correct_predictions = 0\n",
        "  with torch.no_grad():\n",
        "    for k, (X_test, y_test) in enumerate(test_loader):\n",
        "      y_eval = model(X_test.to(device))\n",
        "      _, eval = torch.max(y_eval, dim=1)\n",
        "      number_of_correct_predictions += (eval == y_test.to(device)).sum()\n",
        "\n",
        "  print(f'epoch: {i}: {number_of_correct_predictions} correct predictions in {len(test_data)} samples')\n",
        "\n",
        "  # append loss from the last test batch for showing in plot\n",
        "  batch_testing_loss = criterion(y_eval, y_test.to(device))\n",
        "  testing_loss_list.append(batch_testing_loss.item())\n",
        "\n",
        "end_time = time.time()\n",
        "elapsed_time = end_time - start_time\n",
        "print(f'elapsed time {elapsed_time/60} min')"
      ],
      "metadata": {
        "colab": {
          "base_uri": "https://localhost:8080/"
        },
        "id": "BIh-2I8ayQOB",
        "outputId": "1cec8e12-2d07-438b-c542-4e8be6e23495"
      },
      "execution_count": null,
      "outputs": [
        {
          "output_type": "stream",
          "name": "stderr",
          "text": [
            " 14%|█▍        | 1/7 [00:24<02:27, 24.60s/it]"
          ]
        },
        {
          "output_type": "stream",
          "name": "stdout",
          "text": [
            "epoch: 0: 9670 correct predictions in 10000 samples\n"
          ]
        },
        {
          "output_type": "stream",
          "name": "stderr",
          "text": [
            "\r 29%|██▊       | 2/7 [00:48<02:00, 24.15s/it]"
          ]
        },
        {
          "output_type": "stream",
          "name": "stdout",
          "text": [
            "epoch: 1: 9716 correct predictions in 10000 samples\n"
          ]
        },
        {
          "output_type": "stream",
          "name": "stderr",
          "text": [
            "\r 43%|████▎     | 3/7 [01:12<01:36, 24.22s/it]"
          ]
        },
        {
          "output_type": "stream",
          "name": "stdout",
          "text": [
            "epoch: 2: 9751 correct predictions in 10000 samples\n"
          ]
        },
        {
          "output_type": "stream",
          "name": "stderr",
          "text": [
            "\r 57%|█████▋    | 4/7 [01:37<01:13, 24.49s/it]"
          ]
        },
        {
          "output_type": "stream",
          "name": "stdout",
          "text": [
            "epoch: 3: 9764 correct predictions in 10000 samples\n"
          ]
        },
        {
          "output_type": "stream",
          "name": "stderr",
          "text": [
            "\r 71%|███████▏  | 5/7 [02:02<00:49, 24.59s/it]"
          ]
        },
        {
          "output_type": "stream",
          "name": "stdout",
          "text": [
            "epoch: 4: 9790 correct predictions in 10000 samples\n"
          ]
        },
        {
          "output_type": "stream",
          "name": "stderr",
          "text": [
            "\r 86%|████████▌ | 6/7 [02:27<00:24, 24.64s/it]"
          ]
        },
        {
          "output_type": "stream",
          "name": "stdout",
          "text": [
            "epoch: 5: 9805 correct predictions in 10000 samples\n"
          ]
        },
        {
          "output_type": "stream",
          "name": "stderr",
          "text": [
            "100%|██████████| 7/7 [02:51<00:00, 24.55s/it]"
          ]
        },
        {
          "output_type": "stream",
          "name": "stdout",
          "text": [
            "epoch: 6: 9837 correct predictions in 10000 samples\n",
            "elapsed time 2.8644378662109373 min\n"
          ]
        },
        {
          "output_type": "stream",
          "name": "stderr",
          "text": [
            "\n"
          ]
        }
      ]
    },
    {
      "cell_type": "code",
      "source": [
        "plt.plot(training_loss_list, label = 'training loss')\n",
        "plt.plot(testing_loss_list, label = 'testing loss')\n",
        "plt.legend()\n",
        "\n",
        "testing_loss_list"
      ],
      "metadata": {
        "colab": {
          "base_uri": "https://localhost:8080/",
          "height": 554
        },
        "id": "Ezvejv18yPZ5",
        "outputId": "4b337dab-34d5-4d35-f65b-8bf1ec07df88"
      },
      "execution_count": null,
      "outputs": [
        {
          "output_type": "execute_result",
          "data": {
            "text/plain": [
              "[0.026306208223104477,\n",
              " 0.001390226068906486,\n",
              " 0.029515240341424942,\n",
              " 0.018783604726195335,\n",
              " 0.000217435896047391,\n",
              " 5.081218205305049e-06,\n",
              " 1.147384296018572e-06]"
            ]
          },
          "metadata": {},
          "execution_count": 72
        },
        {
          "output_type": "display_data",
          "data": {
            "text/plain": [
              "<Figure size 640x480 with 1 Axes>"
            ],
            "image/png": "[encoded data removed]"
          },
          "metadata": {}
        }
      ]
    },
    {
      "cell_type": "code",
      "source": [
        "TEST_IMG_NO = 13\n",
        "plt.imshow(test_data[TEST_IMG_NO][0].view(28, 28), cmap='gray')\n",
        "\n",
        "model.eval()\n",
        "with torch.no_grad():\n",
        "  test_pred = model(test_data[TEST_IMG_NO][0].view(1, 1, 28, 28).to(device)) # [batch size, color channel, row, col ]\n",
        "  print(test_pred, test_pred.argmax())"
      ],
      "metadata": {
        "colab": {
          "base_uri": "https://localhost:8080/",
          "height": 465
        },
        "id": "vzYljIvWXmwW",
        "outputId": "826eb9ba-c3e2-4b23-c2f9-deb10b52a024"
      },
      "execution_count": null,
      "outputs": [
        {
          "output_type": "stream",
          "name": "stdout",
          "text": [
            "tensor([[ 22.6213, -16.3617,  -7.1605, -14.5811, -12.0349,  -1.5627,  -0.5338,\n",
            "         -12.0844,  -9.3595,  -4.0352]]) tensor(0)\n"
          ]
        },
        {
          "output_type": "display_data",
          "data": {
            "text/plain": [
              "<Figure size 640x480 with 1 Axes>"
            ],
            "image/png": "[encoded data removed]"
          },
          "metadata": {}
        }
      ]
    }
  ]
}